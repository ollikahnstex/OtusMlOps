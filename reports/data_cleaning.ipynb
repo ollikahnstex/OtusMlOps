{
 "cells": [
  {
   "cell_type": "markdown",
   "id": "11c5e4bf",
   "metadata": {},
   "source": [
    "# ДЗ №3. Очистка данных по транзакциям "
   ]
  },
  {
   "cell_type": "markdown",
   "id": "aa7edba5",
   "metadata": {},
   "source": [
    "## Подготовка к работе "
   ]
  },
  {
   "cell_type": "markdown",
   "id": "adaa094f",
   "metadata": {},
   "source": [
    "### Проверка hostname "
   ]
  },
  {
   "cell_type": "code",
   "execution_count": 1,
   "id": "bfae6fcd",
   "metadata": {},
   "outputs": [
    {
     "name": "stdout",
     "output_type": "stream",
     "text": [
      "rc1a-dataproc-m-rig0u7i3lwc2dxan.mdb.yandexcloud.net\r\n"
     ]
    }
   ],
   "source": [
    "! hostname"
   ]
  },
  {
   "cell_type": "markdown",
   "id": "b87fd15f",
   "metadata": {},
   "source": [
    "Отлично, я на Spark-кластере!"
   ]
  },
  {
   "cell_type": "markdown",
   "id": "9c011df9",
   "metadata": {},
   "source": [
    "### Импорты "
   ]
  },
  {
   "cell_type": "code",
   "execution_count": 2,
   "id": "c2aa6309",
   "metadata": {},
   "outputs": [],
   "source": [
    "import functools\n",
    "import io\n",
    "import os\n",
    "\n",
    "import boto3\n",
    "import pandas as pd\n",
    "import matplotlib.pyplot as plt"
   ]
  },
  {
   "cell_type": "code",
   "execution_count": 3,
   "id": "e447e8ff",
   "metadata": {},
   "outputs": [],
   "source": [
    "import findspark\n",
    "findspark.init()"
   ]
  },
  {
   "cell_type": "code",
   "execution_count": 4,
   "id": "7ac552e1",
   "metadata": {},
   "outputs": [],
   "source": [
    "import pyspark\n",
    "from pyspark.conf import SparkConf\n",
    "from pyspark.sql import SparkSession\n",
    "from pyspark.sql.functions import col, max, min, mean\n",
    "from pyspark.sql.types import StructType, StructField, IntegerType, TimestampType, FloatType, ByteType\n",
    "from pyspark_dist_explore import hist"
   ]
  },
  {
   "cell_type": "markdown",
   "id": "45b973c1",
   "metadata": {},
   "source": [
    "## Загрузка данных"
   ]
  },
  {
   "cell_type": "markdown",
   "id": "3e6cf841",
   "metadata": {},
   "source": [
    "### Артефакты объектного хранилища с исходными данными "
   ]
  },
  {
   "cell_type": "code",
   "execution_count": 5,
   "id": "075f5b1d",
   "metadata": {},
   "outputs": [],
   "source": [
    "S3FS_URL = 'https://storage.yandexcloud.net'\n",
    "BUCKET_NAME = 'otus-mlops-bucket'\n",
    "FRAUD_DATA_DIR = 'fraud_data/'\n",
    "FRAUD_DATA_EXT = '.txt'"
   ]
  },
  {
   "cell_type": "markdown",
   "id": "e9f3f879",
   "metadata": {},
   "source": [
    "### Подключение к объектному хранилищу с исходными данными (s3, код не используется)"
   ]
  },
  {
   "cell_type": "code",
   "execution_count": 6,
   "id": "ebb12e4e",
   "metadata": {},
   "outputs": [],
   "source": [
    "# session = boto3.Session(\n",
    "#     aws_access_key_id=(os.environ['BUCKET_RAW_DATA_ACCESS_ID']),\n",
    "#     aws_secret_access_key=(os.environ['BUCKET_RAW_DATA_ACCESS_KEY']),\n",
    "#     region_name='ru-central1',\n",
    "# )\n",
    "# s3 = session.client('s3', endpoint_url=S3FS_URL)"
   ]
  },
  {
   "cell_type": "code",
   "execution_count": 7,
   "id": "63f44f5f",
   "metadata": {},
   "outputs": [],
   "source": [
    "# filenames = []\n",
    "# for metainfo in s3.list_objects(Bucket=BUCKET_NAME)['Contents']:\n",
    "#     name = metainfo['Key']\n",
    "#     if name.startswith(FRAUD_DATA_DIR) and name.endswith(FRAUD_DATA_EXT):\n",
    "#         filenames.append(name)"
   ]
  },
  {
   "cell_type": "code",
   "execution_count": 8,
   "id": "ae9b2414",
   "metadata": {
    "scrolled": true
   },
   "outputs": [],
   "source": [
    "# filenames"
   ]
  },
  {
   "cell_type": "markdown",
   "id": "7c66519d",
   "metadata": {},
   "source": [
    "### Формирование датафрейма с данными (s3, код не используется)"
   ]
  },
  {
   "cell_type": "markdown",
   "id": "0727063c",
   "metadata": {},
   "source": [
    "Данных очень много. Для проведения анализа, выработки подхода к очистке данных и написания соответствующего скрипта достаточно будет загрузить только часть данных. Возьмём первый и последний по времени файлы. В каждом из них возьмём по 10 млн. строк."
   ]
  },
  {
   "cell_type": "code",
   "execution_count": 9,
   "id": "d44f2f33",
   "metadata": {},
   "outputs": [],
   "source": [
    "# filenames = sorted(filenames)\n",
    "# filenames_to_use = [filenames[0], filenames[-1]]"
   ]
  },
  {
   "cell_type": "code",
   "execution_count": 10,
   "id": "d31dfd57",
   "metadata": {},
   "outputs": [],
   "source": [
    "# %%time\n",
    "# data = pd.DataFrame()\n",
    "# for filename in filenames_to_use:\n",
    "#     print(f'Get the file {filename} ...')\n",
    "#     obj = s3.get_object(Bucket=BUCKET_NAME, Key=filename)    \n",
    "#     df = pd.read_csv(io.BytesIO(obj['Body'].read()), nrows=int(1e4), delimiter='[|,]', index_col=0, engine='python')\n",
    "# #     df = pd.read_csv(io.BytesIO(obj['Body'].read()), nrows=int(1e7), delimiter='[|,]', index_col=0, engine='python')\n",
    "#     data = pd.concat([data, df])\n",
    "#     print('    ... data successfully added!')\n",
    "#     del df"
   ]
  },
  {
   "cell_type": "code",
   "execution_count": 11,
   "id": "46356522",
   "metadata": {},
   "outputs": [],
   "source": [
    "# data.info()"
   ]
  },
  {
   "cell_type": "markdown",
   "id": "3526f0f1",
   "metadata": {},
   "source": [
    "### Загрузка данных из HDFS"
   ]
  },
  {
   "cell_type": "markdown",
   "id": "0082fd70",
   "metadata": {},
   "source": [
    "В связи с тем, что с объектного хранилища получать данные было долго, они были перенесены на HDFS Spark-кластера."
   ]
  },
  {
   "cell_type": "code",
   "execution_count": 12,
   "id": "9e3bebec",
   "metadata": {
    "scrolled": false
   },
   "outputs": [
    {
     "name": "stdout",
     "output_type": "stream",
     "text": [
      "Found 40 items\r\n",
      "-rw-r--r--   1 ubuntu hadoop 2807409271 2024-02-11 20:27 /user/ubuntu/fraud_data/2019-08-22.txt\r\n",
      "-rw-r--r--   1 ubuntu hadoop 2854479008 2024-02-11 20:23 /user/ubuntu/fraud_data/2019-09-21.txt\r\n",
      "-rw-r--r--   1 ubuntu hadoop 2895460543 2024-02-11 20:24 /user/ubuntu/fraud_data/2019-10-21.txt\r\n",
      "-rw-r--r--   1 ubuntu hadoop 2939120942 2024-02-11 20:25 /user/ubuntu/fraud_data/2019-11-20.txt\r\n",
      "-rw-r--r--   1 ubuntu hadoop 2995462277 2024-02-11 20:28 /user/ubuntu/fraud_data/2019-12-20.txt\r\n",
      "-rw-r--r--   1 ubuntu hadoop 2994906767 2024-02-11 20:28 /user/ubuntu/fraud_data/2020-01-19.txt\r\n",
      "-rw-r--r--   1 ubuntu hadoop 2995431240 2024-02-11 20:26 /user/ubuntu/fraud_data/2020-02-18.txt\r\n",
      "-rw-r--r--   1 ubuntu hadoop 2995176166 2024-02-11 20:25 /user/ubuntu/fraud_data/2020-03-19.txt\r\n",
      "-rw-r--r--   1 ubuntu hadoop 2996034632 2024-02-11 20:25 /user/ubuntu/fraud_data/2020-04-18.txt\r\n",
      "-rw-r--r--   1 ubuntu hadoop 2995666965 2024-02-11 20:27 /user/ubuntu/fraud_data/2020-05-18.txt\r\n",
      "-rw-r--r--   1 ubuntu hadoop 2994699401 2024-02-11 20:30 /user/ubuntu/fraud_data/2020-06-17.txt\r\n",
      "-rw-r--r--   1 ubuntu hadoop 2995810010 2024-02-11 20:24 /user/ubuntu/fraud_data/2020-07-17.txt\r\n",
      "-rw-r--r--   1 ubuntu hadoop 2995995152 2024-02-11 20:24 /user/ubuntu/fraud_data/2020-08-16.txt\r\n",
      "-rw-r--r--   1 ubuntu hadoop 2995778382 2024-02-11 20:26 /user/ubuntu/fraud_data/2020-09-15.txt\r\n",
      "-rw-r--r--   1 ubuntu hadoop 2995868596 2024-02-11 20:24 /user/ubuntu/fraud_data/2020-10-15.txt\r\n",
      "-rw-r--r--   1 ubuntu hadoop 2995467533 2024-02-11 20:26 /user/ubuntu/fraud_data/2020-11-14.txt\r\n",
      "-rw-r--r--   1 ubuntu hadoop 2994761624 2024-02-11 20:25 /user/ubuntu/fraud_data/2020-12-14.txt\r\n",
      "-rw-r--r--   1 ubuntu hadoop 2995390576 2024-02-11 20:23 /user/ubuntu/fraud_data/2021-01-13.txt\r\n",
      "-rw-r--r--   1 ubuntu hadoop 2995780517 2024-02-11 20:26 /user/ubuntu/fraud_data/2021-02-12.txt\r\n",
      "-rw-r--r--   1 ubuntu hadoop 2995191659 2024-02-11 20:26 /user/ubuntu/fraud_data/2021-03-14.txt\r\n",
      "-rw-r--r--   1 ubuntu hadoop 2995446495 2024-02-11 20:25 /user/ubuntu/fraud_data/2021-04-13.txt\r\n",
      "-rw-r--r--   1 ubuntu hadoop 3029170975 2024-02-11 20:30 /user/ubuntu/fraud_data/2021-05-13.txt\r\n",
      "-rw-r--r--   1 ubuntu hadoop 3042691991 2024-02-11 20:25 /user/ubuntu/fraud_data/2021-06-12.txt\r\n",
      "-rw-r--r--   1 ubuntu hadoop 3041980335 2024-02-11 20:30 /user/ubuntu/fraud_data/2021-07-12.txt\r\n",
      "-rw-r--r--   1 ubuntu hadoop 3042662187 2024-02-11 20:28 /user/ubuntu/fraud_data/2021-08-11.txt\r\n",
      "-rw-r--r--   1 ubuntu hadoop 3042455173 2024-02-11 20:28 /user/ubuntu/fraud_data/2021-09-10.txt\r\n",
      "-rw-r--r--   1 ubuntu hadoop 3042424238 2024-02-11 20:26 /user/ubuntu/fraud_data/2021-10-10.txt\r\n",
      "-rw-r--r--   1 ubuntu hadoop 3042358698 2024-02-11 20:27 /user/ubuntu/fraud_data/2021-11-09.txt\r\n",
      "-rw-r--r--   1 ubuntu hadoop 3042923985 2024-02-11 20:28 /user/ubuntu/fraud_data/2021-12-09.txt\r\n",
      "-rw-r--r--   1 ubuntu hadoop 3042868087 2024-02-11 20:30 /user/ubuntu/fraud_data/2022-01-08.txt\r\n",
      "-rw-r--r--   1 ubuntu hadoop 3043148790 2024-02-11 20:27 /user/ubuntu/fraud_data/2022-02-07.txt\r\n",
      "-rw-r--r--   1 ubuntu hadoop 3042312191 2024-02-11 20:29 /user/ubuntu/fraud_data/2022-03-09.txt\r\n",
      "-rw-r--r--   1 ubuntu hadoop 3041973966 2024-02-11 20:28 /user/ubuntu/fraud_data/2022-04-08.txt\r\n",
      "-rw-r--r--   1 ubuntu hadoop 3073760161 2024-02-11 20:24 /user/ubuntu/fraud_data/2022-05-08.txt\r\n",
      "-rw-r--r--   1 ubuntu hadoop 3089378246 2024-02-11 20:28 /user/ubuntu/fraud_data/2022-06-07.txt\r\n",
      "-rw-r--r--   1 ubuntu hadoop 3089589719 2024-02-11 20:30 /user/ubuntu/fraud_data/2022-07-07.txt\r\n",
      "-rw-r--r--   1 ubuntu hadoop 3090000257 2024-02-11 20:30 /user/ubuntu/fraud_data/2022-08-06.txt\r\n",
      "-rw-r--r--   1 ubuntu hadoop 3089390874 2024-02-11 20:25 /user/ubuntu/fraud_data/2022-09-05.txt\r\n",
      "-rw-r--r--   1 ubuntu hadoop 3109468067 2024-02-11 20:29 /user/ubuntu/fraud_data/2022-10-05.txt\r\n",
      "-rw-r--r--   1 ubuntu hadoop 3136657969 2024-02-11 20:26 /user/ubuntu/fraud_data/2022-11-04.txt\r\n"
     ]
    }
   ],
   "source": [
    "!hdfs dfs -ls /user/ubuntu/fraud_data"
   ]
  },
  {
   "cell_type": "markdown",
   "id": "638566c8",
   "metadata": {},
   "source": [
    "### Артефакты HDFS с исходными данными "
   ]
  },
  {
   "cell_type": "code",
   "execution_count": 13,
   "id": "4fb45232",
   "metadata": {},
   "outputs": [],
   "source": [
    "SPARK_CLUSTER_URL = 'hdfs://rc1a-dataproc-m-rig0u7i3lwc2dxan.mdb.yandexcloud.net'\n",
    "FRAUD_DATA_DIR = '/user/ubuntu/fraud_data'"
   ]
  },
  {
   "cell_type": "markdown",
   "id": "ce200642",
   "metadata": {},
   "source": [
    "Анализ данных для чистки проведём на примере одного файла"
   ]
  },
  {
   "cell_type": "code",
   "execution_count": 14,
   "id": "48df27e0",
   "metadata": {},
   "outputs": [],
   "source": [
    "filename_example = '2019-08-22.txt'\n",
    "path_to_example = f'{SPARK_CLUSTER_URL}{FRAUD_DATA_DIR}/{filename_example}'"
   ]
  },
  {
   "cell_type": "markdown",
   "id": "e0cd1c89",
   "metadata": {},
   "source": [
    "Перенесём его на мастер-ноду, чтобы повысить скорость доступа (сначала было в ячейке)."
   ]
  },
  {
   "cell_type": "code",
   "execution_count": 15,
   "id": "d2a4077f",
   "metadata": {},
   "outputs": [],
   "source": [
    "path_to_local_example = f'fraud_data/{filename_example}'"
   ]
  },
  {
   "cell_type": "code",
   "execution_count": 16,
   "id": "a90ce499",
   "metadata": {},
   "outputs": [],
   "source": [
    "# !sudo hdfs dfs -get '/user/ubuntu/fraud_data/2019-08-22.txt' '~/fraud_data/2019-08-22.txt'"
   ]
  },
  {
   "cell_type": "code",
   "execution_count": 17,
   "id": "210e2c5c",
   "metadata": {},
   "outputs": [
    {
     "data": {
      "text/plain": [
       "'fraud_data/2019-08-22.txt'"
      ]
     },
     "execution_count": 17,
     "metadata": {},
     "output_type": "execute_result"
    }
   ],
   "source": [
    "path_to_local_example"
   ]
  },
  {
   "cell_type": "code",
   "execution_count": 18,
   "id": "e9cbb671",
   "metadata": {},
   "outputs": [
    {
     "name": "stderr",
     "output_type": "stream",
     "text": [
      "SLF4J: Class path contains multiple SLF4J bindings.\n",
      "SLF4J: Found binding in [jar:file:/usr/lib/spark/jars/slf4j-log4j12-1.7.30.jar!/org/slf4j/impl/StaticLoggerBinder.class]\n",
      "SLF4J: Found binding in [jar:file:/usr/lib/hadoop/lib/slf4j-log4j12-1.7.25.jar!/org/slf4j/impl/StaticLoggerBinder.class]\n",
      "SLF4J: See http://www.slf4j.org/codes.html#multiple_bindings for an explanation.\n",
      "SLF4J: Actual binding is of type [org.slf4j.impl.Log4jLoggerFactory]\n",
      "Setting default log level to \"WARN\".\n",
      "To adjust logging level use sc.setLogLevel(newLevel). For SparkR, use setLogLevel(newLevel).\n",
      "2024-02-16 22:01:26,700 WARN util.Utils: spark.executor.instances less than spark.dynamicAllocation.minExecutors is invalid, ignoring its setting, please update your configs.\n",
      "2024-02-16 22:01:32,975 WARN util.Utils: spark.executor.instances less than spark.dynamicAllocation.minExecutors is invalid, ignoring its setting, please update your configs.\n",
      "2024-02-16 22:01:32,985 WARN cluster.YarnSchedulerBackend$YarnSchedulerEndpoint: Attempted to request executors before the AM has registered!\n"
     ]
    },
    {
     "name": "stdout",
     "output_type": "stream",
     "text": [
      "CPU times: user 28.3 ms, sys: 8.1 ms, total: 36.4 ms\n",
      "Wall time: 16.2 s\n"
     ]
    }
   ],
   "source": [
    "%%time\n",
    "spark = SparkSession.builder.appName('mlops') \\\n",
    "            .config(conf=SparkConf()) \\\n",
    "            .config('spark.sql.execution.arrow.pyspark.enabled', True) \\\n",
    "            .config('spark.driver.memory','8G') \\\n",
    "            .getOrCreate()"
   ]
  },
  {
   "cell_type": "markdown",
   "id": "f2688d9c",
   "metadata": {},
   "source": [
    "Захардкодим список столбцов и их типов для pyspark (есть проблемы с различием разделителей для имён столбцов и для величин)."
   ]
  },
  {
   "cell_type": "code",
   "execution_count": 19,
   "id": "fc040078",
   "metadata": {},
   "outputs": [],
   "source": [
    "data_cols = {\n",
    "    'tx_id': IntegerType,\n",
    "    'tx_datetime': TimestampType,\n",
    "    'customer_id': IntegerType,\n",
    "    'terminal_id': IntegerType,\n",
    "    'tx_amount': FloatType,\n",
    "    'tx_time_in_seconds': IntegerType,\n",
    "    'tx_time_in_days': IntegerType,\n",
    "    'tx_is_fraud': ByteType,\n",
    "    'tx_fraud_scenario': ByteType,\n",
    "}"
   ]
  },
  {
   "cell_type": "markdown",
   "id": "30b4f581",
   "metadata": {},
   "source": [
    "Соответствующая схема"
   ]
  },
  {
   "cell_type": "code",
   "execution_count": 20,
   "id": "0be9b567",
   "metadata": {},
   "outputs": [
    {
     "data": {
      "text/plain": [
       "StructType(List(StructField(tx_id,IntegerType,true),StructField(tx_datetime,TimestampType,true),StructField(customer_id,IntegerType,true),StructField(terminal_id,IntegerType,true),StructField(tx_amount,FloatType,true),StructField(tx_time_in_seconds,IntegerType,true),StructField(tx_time_in_days,IntegerType,true),StructField(tx_is_fraud,ByteType,true),StructField(tx_fraud_scenario,ByteType,true)))"
      ]
     },
     "execution_count": 20,
     "metadata": {},
     "output_type": "execute_result"
    }
   ],
   "source": [
    "schema = StructType([StructField(col_name, col_type(), True) for col_name, col_type in data_cols.items()])\n",
    "schema"
   ]
  },
  {
   "cell_type": "markdown",
   "id": "64435b86",
   "metadata": {},
   "source": [
    "Загрузим данные файла"
   ]
  },
  {
   "cell_type": "code",
   "execution_count": 21,
   "id": "bebc7522",
   "metadata": {},
   "outputs": [],
   "source": [
    "data = spark.read.csv(path_to_local_example, schema=schema, header=False, sep=',', comment='#')"
   ]
  },
  {
   "cell_type": "code",
   "execution_count": 22,
   "id": "6db97f8d",
   "metadata": {},
   "outputs": [
    {
     "name": "stderr",
     "output_type": "stream",
     "text": [
      "\r",
      "[Stage 0:>                                                          (0 + 1) / 1]\r"
     ]
    },
    {
     "name": "stdout",
     "output_type": "stream",
     "text": [
      "+-----+-------------------+-----------+-----------+---------+------------------+---------------+-----------+-----------------+\n",
      "|tx_id|        tx_datetime|customer_id|terminal_id|tx_amount|tx_time_in_seconds|tx_time_in_days|tx_is_fraud|tx_fraud_scenario|\n",
      "+-----+-------------------+-----------+-----------+---------+------------------+---------------+-----------+-----------------+\n",
      "|    0|2019-08-22 06:51:03|          0|        711|    70.91|             24663|              0|          0|                0|\n",
      "|    1|2019-08-22 05:10:37|          0|          0|    90.55|             18637|              0|          0|                0|\n",
      "|    2|2019-08-22 19:05:33|          0|        753|    35.38|             68733|              0|          0|                0|\n",
      "|    3|2019-08-22 07:21:33|          0|          0|    80.41|             26493|              0|          0|                0|\n",
      "|    4|2019-08-22 09:06:17|          1|        981|   102.83|             32777|              0|          0|                0|\n",
      "|    5|2019-08-22 18:41:25|          3|        205|     34.2|             67285|              0|          0|                0|\n",
      "|    6|2019-08-22 03:12:21|          3|          0|     47.2|             11541|              0|          0|                0|\n",
      "|    7|2019-08-22 22:36:40|          6|        809|   139.39|             81400|              0|          0|                0|\n",
      "|    8|2019-08-22 17:23:29|          7|        184|    87.24|             62609|              0|          0|                0|\n",
      "|    9|2019-08-22 21:09:37|          8|        931|     61.7|             76177|              0|          0|                0|\n",
      "|   10|2019-08-22 11:32:42|         10|        663|    40.71|             41562|              0|          1|                2|\n",
      "|   11|2019-08-22 03:09:26|         10|        770|    63.91|             11366|              0|          0|                0|\n",
      "|   12|2019-08-22 15:47:54|         10|          0|    58.89|             56874|              0|          0|                0|\n",
      "|   13|2019-08-22 21:59:20|         10|        649|    89.24|             79160|              0|          0|                0|\n",
      "|   14|2019-08-22 20:55:13|         11|        380|     9.89|             75313|              0|          0|                0|\n",
      "+-----+-------------------+-----------+-----------+---------+------------------+---------------+-----------+-----------------+\n",
      "only showing top 15 rows\n",
      "\n"
     ]
    },
    {
     "name": "stderr",
     "output_type": "stream",
     "text": [
      "\r",
      "                                                                                \r"
     ]
    }
   ],
   "source": [
    "data.show(15)"
   ]
  },
  {
   "cell_type": "markdown",
   "id": "5eb7fe5b",
   "metadata": {},
   "source": [
    "## Анализ данных на качество "
   ]
  },
  {
   "cell_type": "markdown",
   "id": "b63a0b04",
   "metadata": {},
   "source": [
    "Общая информация по всем столбцам"
   ]
  },
  {
   "cell_type": "code",
   "execution_count": 23,
   "id": "4232147d",
   "metadata": {},
   "outputs": [
    {
     "name": "stderr",
     "output_type": "stream",
     "text": [
      "[Stage 1:======================================================>  (20 + 1) / 21]\r"
     ]
    },
    {
     "name": "stdout",
     "output_type": "stream",
     "text": [
      "+-------+--------------------+------------------+------------------+------------------+------------------+----------------+-------------------+-------------------+\n",
      "|summary|               tx_id|       customer_id|       terminal_id|         tx_amount|tx_time_in_seconds| tx_time_in_days|        tx_is_fraud|  tx_fraud_scenario|\n",
      "+-------+--------------------+------------------+------------------+------------------+------------------+----------------+-------------------+-------------------+\n",
      "|  count|            46988418|          46988418|          46988418|          46988418|          46988418|        46988418|           46988418|           46988418|\n",
      "|   mean|2.3494115552178305E7|500433.83151635365|26597.231571533222| 54.23395999449788|1296054.5003670265|14.5006346883183|0.05377931642644364|0.10841507794537794|\n",
      "| stddev|1.3564333711807257E7| 288539.1737685039|1528137.6620335374|41.250335143800804|  748049.508734945|8.65541588439431|0.22558169835808656| 0.4568780500029874|\n",
      "|    min|                   0|           -999999|                 0|               0.0|                 0|               0|                  0|                  0|\n",
      "|    max|            46988236|            999999|          89518096|           3773.34|           2592000|              29|                  1|                  3|\n",
      "+-------+--------------------+------------------+------------------+------------------+------------------+----------------+-------------------+-------------------+\n",
      "\n",
      "CPU times: user 24.7 ms, sys: 8.21 ms, total: 32.9 ms\n",
      "Wall time: 52.3 s\n"
     ]
    },
    {
     "name": "stderr",
     "output_type": "stream",
     "text": [
      "\r",
      "                                                                                \r"
     ]
    }
   ],
   "source": [
    "%%time\n",
    "data.describe().show()"
   ]
  },
  {
   "cell_type": "code",
   "execution_count": 24,
   "id": "d5a8fc20",
   "metadata": {},
   "outputs": [
    {
     "name": "stderr",
     "output_type": "stream",
     "text": [
      "[Stage 3:======================================================>  (20 + 1) / 21]\r"
     ]
    },
    {
     "name": "stdout",
     "output_type": "stream",
     "text": [
      "CPU times: user 12.7 ms, sys: 7.35 ms, total: 20 ms\n",
      "Wall time: 15.3 s\n"
     ]
    },
    {
     "name": "stderr",
     "output_type": "stream",
     "text": [
      "\r",
      "                                                                                \r"
     ]
    },
    {
     "data": {
      "text/plain": [
       "46988418"
      ]
     },
     "execution_count": 24,
     "metadata": {},
     "output_type": "execute_result"
    }
   ],
   "source": [
    "%%time\n",
    "data.count()"
   ]
  },
  {
   "cell_type": "markdown",
   "id": "c396b3c9",
   "metadata": {},
   "source": [
    "Мощность множества идентификаторов транзакций `tx_id` (46988236) меньше числа записей, то есть какие-то из них точно повторяются. Возможно, какие-то записи являются полными дубликатами. Удалим их, и посмотрим, что можно сделать с оставшимися записями, если у них одинаковые идентификаторы."
   ]
  },
  {
   "cell_type": "markdown",
   "id": "b0decdad",
   "metadata": {},
   "source": [
    "Также видно, что в поле `customer_id` есть отрицательные значения. Их смысл неясен, поэтому тоже стоит удалить такие записи как записи без доверия (однако, если их много, можно бы и оставить, так как по сути в классификации они будут либо в закодированном виде, либо являться метками графа)."
   ]
  },
  {
   "cell_type": "markdown",
   "id": "4f11359f",
   "metadata": {},
   "source": [
    "Ещё в поле `tx_amount` есть нулевые значения. Так как мы работаем с денежными переводами, нам не интересны нулевые переводы (по кранайней мере в первой постановке, однако это может оказаться полезным, если это, например, неудачная попытка отправки средств)."
   ]
  },
  {
   "cell_type": "markdown",
   "id": "62bafbe1",
   "metadata": {},
   "source": [
    "Напишем декоратор для функций удаления строк с проблемами."
   ]
  },
  {
   "cell_type": "code",
   "execution_count": 25,
   "id": "7da50452",
   "metadata": {},
   "outputs": [],
   "source": [
    "def count_decorator(drop_func):\n",
    "    @functools.wraps(drop_func)\n",
    "    def wrapper(*args, **kwargs):\n",
    "        data_ = args[0]\n",
    "        n1 = data_.count()\n",
    "        print(f'Number of original data rows: {n1}')\n",
    "        data_ = drop_func(data_)\n",
    "        n2 = data_.count()\n",
    "        print(f'Number of data rows after deleting duplicated data: {n2}')\n",
    "        n3 = n1 - n2\n",
    "        print(f'Number of duplicate rows: {n3}')\n",
    "        drop_info_ = {\n",
    "            'rows_before': n1,\n",
    "            'rows_after': n2,\n",
    "            'diff': n3,\n",
    "        }\n",
    "        return data_, drop_info_\n",
    "    return wrapper"
   ]
  },
  {
   "cell_type": "markdown",
   "id": "2f9e830f",
   "metadata": {},
   "source": [
    "Декоратор решил тут не использовать для экономии времени вычислений. Использую его только в скрипте."
   ]
  },
  {
   "cell_type": "markdown",
   "id": "1aed3285",
   "metadata": {},
   "source": [
    "### Удаление полных дубликатов "
   ]
  },
  {
   "cell_type": "code",
   "execution_count": 26,
   "id": "7b59b234",
   "metadata": {},
   "outputs": [],
   "source": [
    "# @count_decorator\n",
    "def drop_duplicates(data_):\n",
    "    return data_.dropDuplicates()"
   ]
  },
  {
   "cell_type": "code",
   "execution_count": 27,
   "id": "19f88d77",
   "metadata": {},
   "outputs": [
    {
     "name": "stderr",
     "output_type": "stream",
     "text": [
      "[Stage 6:======================================================>(198 + 2) / 200]\r"
     ]
    },
    {
     "name": "stdout",
     "output_type": "stream",
     "text": [
      "CPU times: user 119 ms, sys: 22.8 ms, total: 142 ms\n",
      "Wall time: 5min 3s\n"
     ]
    },
    {
     "name": "stderr",
     "output_type": "stream",
     "text": [
      "\r",
      "                                                                                \r"
     ]
    },
    {
     "data": {
      "text/plain": [
       "46988237"
      ]
     },
     "execution_count": 27,
     "metadata": {},
     "output_type": "execute_result"
    }
   ],
   "source": [
    "%%time\n",
    "data = drop_duplicates(data)\n",
    "data.count()"
   ]
  },
  {
   "cell_type": "markdown",
   "id": "00a7eda1",
   "metadata": {},
   "source": [
    "Помимо полных дуликатов стоит посмотреть, нет ли дубликатов по признаковому пространству (одинаковые признаки, разные метки класса). Полностью удалим такие записи."
   ]
  },
  {
   "cell_type": "markdown",
   "id": "583fd36e",
   "metadata": {},
   "source": [
    "### Удаление дубликатов по признаковому пространству"
   ]
  },
  {
   "cell_type": "code",
   "execution_count": 28,
   "id": "953a8458",
   "metadata": {},
   "outputs": [],
   "source": [
    "# @count_decorator\n",
    "def drop_feature_duplicates(data_):\n",
    "    return data_.groupBy([col_ for col_ in data_.columns if col_ != 'tx_is_fraud']).count().where('count = 1')"
   ]
  },
  {
   "cell_type": "code",
   "execution_count": 29,
   "id": "f2b43713",
   "metadata": {},
   "outputs": [
    {
     "name": "stderr",
     "output_type": "stream",
     "text": [
      "[Stage 10:=====================================================>(199 + 1) / 200]\r"
     ]
    },
    {
     "name": "stdout",
     "output_type": "stream",
     "text": [
      "CPU times: user 191 ms, sys: 58.7 ms, total: 250 ms\n",
      "Wall time: 5min 18s\n"
     ]
    },
    {
     "name": "stderr",
     "output_type": "stream",
     "text": [
      "\r",
      "                                                                                \r"
     ]
    },
    {
     "data": {
      "text/plain": [
       "46988237"
      ]
     },
     "execution_count": 29,
     "metadata": {},
     "output_type": "execute_result"
    }
   ],
   "source": [
    "%%time\n",
    "data = drop_feature_duplicates(data)\n",
    "data.count()"
   ]
  },
  {
   "cell_type": "markdown",
   "id": "e937b1a2",
   "metadata": {},
   "source": [
    "Таких строк не оказалось. Ну и хорошо, добавлять это в скрипт не будем."
   ]
  },
  {
   "cell_type": "markdown",
   "id": "16d67618",
   "metadata": {},
   "source": [
    "### Удаление отрицательных индентификаторов клиентов"
   ]
  },
  {
   "cell_type": "code",
   "execution_count": 30,
   "id": "4566869a",
   "metadata": {},
   "outputs": [],
   "source": [
    "# @count_decorator\n",
    "def drop_negative_customers(data_):\n",
    "    return data_.filter(data_['customer_id'] >= 0)"
   ]
  },
  {
   "cell_type": "code",
   "execution_count": 31,
   "id": "41725467",
   "metadata": {},
   "outputs": [
    {
     "name": "stderr",
     "output_type": "stream",
     "text": [
      "[Stage 14:=====================================================>(199 + 1) / 200]\r"
     ]
    },
    {
     "name": "stdout",
     "output_type": "stream",
     "text": [
      "CPU times: user 210 ms, sys: 35.2 ms, total: 245 ms\n",
      "Wall time: 5min 42s\n"
     ]
    },
    {
     "name": "stderr",
     "output_type": "stream",
     "text": [
      "\r",
      "                                                                                \r"
     ]
    },
    {
     "data": {
      "text/plain": [
       "46988173"
      ]
     },
     "execution_count": 31,
     "metadata": {},
     "output_type": "execute_result"
    }
   ],
   "source": [
    "%%time\n",
    "data = drop_negative_customers(data)\n",
    "data.count()"
   ]
  },
  {
   "cell_type": "markdown",
   "id": "620bb538",
   "metadata": {},
   "source": [
    "### Удаление строк с нулевым объёмом перевода"
   ]
  },
  {
   "cell_type": "code",
   "execution_count": 32,
   "id": "c3961db5",
   "metadata": {},
   "outputs": [],
   "source": [
    "# @count_decorator\n",
    "def drop_nonpositive_amount(data_):\n",
    "    return data_.filter(data_['tx_amount'] > 0)"
   ]
  },
  {
   "cell_type": "code",
   "execution_count": 33,
   "id": "2cd2a6c5",
   "metadata": {},
   "outputs": [
    {
     "name": "stderr",
     "output_type": "stream",
     "text": [
      "[Stage 18:=====================================================>(199 + 1) / 200]\r"
     ]
    },
    {
     "name": "stdout",
     "output_type": "stream",
     "text": [
      "CPU times: user 179 ms, sys: 32.3 ms, total: 211 ms\n",
      "Wall time: 5min 22s\n"
     ]
    },
    {
     "name": "stderr",
     "output_type": "stream",
     "text": [
      "\r",
      "                                                                                \r"
     ]
    },
    {
     "data": {
      "text/plain": [
       "46987289"
      ]
     },
     "execution_count": 33,
     "metadata": {},
     "output_type": "execute_result"
    }
   ],
   "source": [
    "%%time\n",
    "data = drop_nonpositive_amount(data)\n",
    "data.count()"
   ]
  },
  {
   "cell_type": "markdown",
   "id": "c4f31c32",
   "metadata": {},
   "source": [
    "Проведём также аналитику каждого столбца в отдельности. Напишем небольшую функцию анализа столбца с подсчётом числа вхождений каждого уникального значения в столбце и сортировкой в обе стороны."
   ]
  },
  {
   "cell_type": "code",
   "execution_count": 34,
   "id": "26f07d5a",
   "metadata": {},
   "outputs": [],
   "source": [
    "def value_counts(data_, col_):\n",
    "    count = data_.groupBy(col_).count().orderBy('count', ascending=False)\n",
    "    print(count.head(10))\n",
    "    print(count.tail(10))"
   ]
  },
  {
   "cell_type": "markdown",
   "id": "dff340ee",
   "metadata": {},
   "source": [
    "### tx_datetime"
   ]
  },
  {
   "cell_type": "markdown",
   "id": "562cbced",
   "metadata": {},
   "source": [
    "Проверим, нет ли плохих значений в столбце со временем транзакции без подсчёта уникальных значений."
   ]
  },
  {
   "cell_type": "code",
   "execution_count": 35,
   "id": "9b443b5f",
   "metadata": {},
   "outputs": [
    {
     "name": "stderr",
     "output_type": "stream",
     "text": [
      "[Stage 22:====================================================> (194 + 2) / 200]\r"
     ]
    },
    {
     "name": "stdout",
     "output_type": "stream",
     "text": [
      "+-------------------+-------------------+\n",
      "|   min(tx_datetime)|   max(tx_datetime)|\n",
      "+-------------------+-------------------+\n",
      "|2019-08-22 00:00:00|2019-09-20 23:59:59|\n",
      "+-------------------+-------------------+\n",
      "\n",
      "CPU times: user 135 ms, sys: 24.4 ms, total: 160 ms\n",
      "Wall time: 3min 8s\n"
     ]
    },
    {
     "name": "stderr",
     "output_type": "stream",
     "text": [
      "\r",
      "[Stage 22:=====================================================>(198 + 2) / 200]\r",
      "\r",
      "                                                                                \r"
     ]
    }
   ],
   "source": [
    "%%time\n",
    "data.agg(min(\"tx_datetime\"), max(\"tx_datetime\")).show()"
   ]
  },
  {
   "cell_type": "markdown",
   "id": "4e848131",
   "metadata": {},
   "source": [
    "Кажется, всё в порядке."
   ]
  },
  {
   "cell_type": "markdown",
   "id": "a125a8b0",
   "metadata": {},
   "source": [
    "###  tx_id"
   ]
  },
  {
   "cell_type": "markdown",
   "id": "c487dde7",
   "metadata": {},
   "source": [
    "Согласно `describe()` выше у столбца `tx_id` "
   ]
  },
  {
   "cell_type": "code",
   "execution_count": 36,
   "id": "3176039a",
   "metadata": {},
   "outputs": [
    {
     "name": "stderr",
     "output_type": "stream",
     "text": [
      "                                                                                \r"
     ]
    },
    {
     "name": "stdout",
     "output_type": "stream",
     "text": [
      "[Row(tx_id=28051526, count=1), Row(tx_id=30114151, count=1), Row(tx_id=43881607, count=1), Row(tx_id=44528945, count=1), Row(tx_id=15189129, count=1), Row(tx_id=21311391, count=1), Row(tx_id=11730797, count=1), Row(tx_id=34877848, count=1), Row(tx_id=35220158, count=1), Row(tx_id=19153704, count=1)]\n"
     ]
    },
    {
     "name": "stderr",
     "output_type": "stream",
     "text": [
      "[Stage 41:>                                                         (0 + 1) / 1]\r"
     ]
    },
    {
     "name": "stdout",
     "output_type": "stream",
     "text": [
      "[Row(tx_id=35351914, count=1), Row(tx_id=26117107, count=1), Row(tx_id=43481098, count=1), Row(tx_id=17735241, count=1), Row(tx_id=12438871, count=1), Row(tx_id=13743141, count=1), Row(tx_id=20813020, count=1), Row(tx_id=22214544, count=1), Row(tx_id=2432003, count=1), Row(tx_id=4004245, count=1)]\n",
      "CPU times: user 690 ms, sys: 98.2 ms, total: 788 ms\n",
      "Wall time: 12min 59s\n"
     ]
    },
    {
     "name": "stderr",
     "output_type": "stream",
     "text": [
      "\r",
      "                                                                                \r"
     ]
    }
   ],
   "source": [
    "%%time\n",
    "value_counts(data, 'tx_id')"
   ]
  },
  {
   "cell_type": "markdown",
   "id": "cb5c040e",
   "metadata": {},
   "source": [
    "Проблемых значений столбца `tx_id` не видно, одинаковых идентификаторов не осталось."
   ]
  },
  {
   "cell_type": "markdown",
   "id": "c9698622",
   "metadata": {},
   "source": [
    "### customer_id"
   ]
  },
  {
   "cell_type": "code",
   "execution_count": 37,
   "id": "1facac4a",
   "metadata": {},
   "outputs": [
    {
     "name": "stderr",
     "output_type": "stream",
     "text": [
      "                                                                                \r"
     ]
    },
    {
     "name": "stdout",
     "output_type": "stream",
     "text": [
      "[Row(customer_id=918024, count=121), Row(customer_id=857766, count=120), Row(customer_id=330952, count=119), Row(customer_id=399172, count=118), Row(customer_id=208556, count=117), Row(customer_id=368394, count=117), Row(customer_id=308035, count=117), Row(customer_id=704848, count=117), Row(customer_id=800861, count=117), Row(customer_id=725932, count=116)]\n"
     ]
    },
    {
     "name": "stderr",
     "output_type": "stream",
     "text": [
      "                                                                                \r"
     ]
    },
    {
     "name": "stdout",
     "output_type": "stream",
     "text": [
      "[Row(customer_id=358480, count=1), Row(customer_id=518803, count=1), Row(customer_id=101683, count=1), Row(customer_id=818605, count=1), Row(customer_id=823556, count=1), Row(customer_id=745373, count=1), Row(customer_id=763147, count=1), Row(customer_id=682106, count=1), Row(customer_id=927901, count=1), Row(customer_id=518115, count=1)]\n",
      "CPU times: user 510 ms, sys: 113 ms, total: 623 ms\n",
      "Wall time: 11min 23s\n"
     ]
    }
   ],
   "source": [
    "%%time\n",
    "value_counts(data, 'customer_id')"
   ]
  },
  {
   "cell_type": "markdown",
   "id": "aad4c8ce",
   "metadata": {},
   "source": [
    "Проблемых значений столбца `customer_id` не видно."
   ]
  },
  {
   "cell_type": "markdown",
   "id": "b9927380",
   "metadata": {},
   "source": [
    "### terminal_id"
   ]
  },
  {
   "cell_type": "code",
   "execution_count": 38,
   "id": "db9e87be",
   "metadata": {},
   "outputs": [
    {
     "name": "stderr",
     "output_type": "stream",
     "text": [
      "                                                                                \r"
     ]
    },
    {
     "name": "stdout",
     "output_type": "stream",
     "text": [
      "[Row(terminal_id=0, count=2041628), Row(terminal_id=145, count=1298651), Row(terminal_id=81, count=774903), Row(terminal_id=97, count=139789), Row(terminal_id=937, count=89374), Row(terminal_id=969, count=85823), Row(terminal_id=979, count=80430), Row(terminal_id=993, count=79982), Row(terminal_id=939, count=79151), Row(terminal_id=980, count=78898)]\n"
     ]
    },
    {
     "name": "stderr",
     "output_type": "stream",
     "text": [
      "[Stage 71:====================================================> (195 + 2) / 200]\r"
     ]
    },
    {
     "name": "stdout",
     "output_type": "stream",
     "text": [
      "[Row(terminal_id=392, count=18393), Row(terminal_id=348, count=16978), Row(terminal_id=299, count=16677), Row(terminal_id=223, count=15332), Row(terminal_id=89518096, count=13696), Row(terminal_id=21861, count=1552), Row(terminal_id=22225, count=333), Row(terminal_id=618230, count=77), Row(terminal_id=436002, count=2), Row(terminal_id=22129, count=1)]\n",
      "CPU times: user 369 ms, sys: 44.6 ms, total: 413 ms\n",
      "Wall time: 8min 5s\n"
     ]
    },
    {
     "name": "stderr",
     "output_type": "stream",
     "text": [
      "\r",
      "                                                                                \r"
     ]
    }
   ],
   "source": [
    "%%time\n",
    "value_counts(data, 'terminal_id')"
   ]
  },
  {
   "cell_type": "markdown",
   "id": "52fd9ead",
   "metadata": {},
   "source": [
    "Подозрительно, что самое частое значение у терминала – `0`. Возможно, это ошибка обработки номера терминала. С другой стороны, это может быть просто первый и самый популярный терминал (специально устанавливали там, где будет большой спрос).  \n",
    "Также через некоторые терминалы осуществляется заметно мало транзакций, может быть какой-то сбой, а соовтетственно, нерелевантные данные.  \n",
    "Обе ситуации никак исправлять не будем, однако, в реальной задаче надо бы было уточнить этот момент у коллег."
   ]
  },
  {
   "cell_type": "markdown",
   "id": "688d198c",
   "metadata": {},
   "source": [
    "### tx_amount"
   ]
  },
  {
   "cell_type": "code",
   "execution_count": 39,
   "id": "92726f33",
   "metadata": {},
   "outputs": [
    {
     "name": "stderr",
     "output_type": "stream",
     "text": [
      "                                                                                \r"
     ]
    },
    {
     "name": "stdout",
     "output_type": "stream",
     "text": [
      "[Row(tx_amount=9.59000015258789, count=6575), Row(tx_amount=8.960000038146973, count=6553), Row(tx_amount=9.390000343322754, count=6540), Row(tx_amount=12.020000457763672, count=6506), Row(tx_amount=8.699999809265137, count=6488), Row(tx_amount=10.369999885559082, count=6480), Row(tx_amount=8.84000015258789, count=6477), Row(tx_amount=9.300000190734863, count=6473), Row(tx_amount=9.859999656677246, count=6473), Row(tx_amount=8.949999809265137, count=6459)]\n"
     ]
    },
    {
     "name": "stderr",
     "output_type": "stream",
     "text": [
      "                                                                                \r"
     ]
    },
    {
     "name": "stdout",
     "output_type": "stream",
     "text": [
      "[Row(tx_amount=476.3299865722656, count=1), Row(tx_amount=473.07000732421875, count=1), Row(tx_amount=567.5, count=1), Row(tx_amount=719.739990234375, count=1), Row(tx_amount=611.1099853515625, count=1), Row(tx_amount=671.510009765625, count=1), Row(tx_amount=392.3500061035156, count=1), Row(tx_amount=294.82000732421875, count=1), Row(tx_amount=885.8300170898438, count=1), Row(tx_amount=613.0499877929688, count=1)]\n",
      "CPU times: user 307 ms, sys: 51.5 ms, total: 358 ms\n",
      "Wall time: 7min 32s\n"
     ]
    }
   ],
   "source": [
    "%%time\n",
    "value_counts(data, 'tx_amount')"
   ]
  },
  {
   "cell_type": "markdown",
   "id": "be242545",
   "metadata": {},
   "source": [
    "Проблемых значений столбца `tx_amount` не видно."
   ]
  },
  {
   "cell_type": "markdown",
   "id": "1aed72df",
   "metadata": {},
   "source": [
    "### tx_time_in_seconds и tx_time_in_days"
   ]
  },
  {
   "cell_type": "markdown",
   "id": "f11ef7c0",
   "metadata": {},
   "source": [
    "Поля `tx_time_in_seconds` и `tx_time_in_days` не вызывают вопросов, поэтому отдельно смотреть на них не будем."
   ]
  },
  {
   "cell_type": "markdown",
   "id": "9d67a230",
   "metadata": {},
   "source": [
    "### tx_is_fraud"
   ]
  },
  {
   "cell_type": "code",
   "execution_count": 40,
   "id": "1d04d5ee",
   "metadata": {},
   "outputs": [
    {
     "ename": "AnalysisException",
     "evalue": "cannot resolve '`tx_is_fraud`' given input columns: [count, customer_id, terminal_id, tx_amount, tx_datetime, tx_fraud_scenario, tx_id, tx_time_in_days, tx_time_in_seconds];;\n'Aggregate ['tx_is_fraud], ['tx_is_fraud, count(1) AS count#893L]\n+- Filter (tx_amount#4 > cast(0 as float))\n   +- Filter (customer_id#2 >= 0)\n      +- Filter (count#630L = cast(1 as bigint))\n         +- Aggregate [tx_id#0, tx_datetime#1, customer_id#2, terminal_id#3, tx_amount#4, tx_time_in_seconds#5, tx_time_in_days#6, tx_fraud_scenario#8], [tx_id#0, tx_datetime#1, customer_id#2, terminal_id#3, tx_amount#4, tx_time_in_seconds#5, tx_time_in_days#6, tx_fraud_scenario#8, count(1) AS count#630L]\n            +- Deduplicate [customer_id#2, tx_time_in_seconds#5, tx_amount#4, tx_is_fraud#7, tx_time_in_days#6, terminal_id#3, tx_datetime#1, tx_id#0, tx_fraud_scenario#8]\n               +- Relation[tx_id#0,tx_datetime#1,customer_id#2,terminal_id#3,tx_amount#4,tx_time_in_seconds#5,tx_time_in_days#6,tx_is_fraud#7,tx_fraud_scenario#8] csv\n",
     "output_type": "error",
     "traceback": [
      "\u001b[0;31m---------------------------------------------------------------------------\u001b[0m",
      "\u001b[0;31mAnalysisException\u001b[0m                         Traceback (most recent call last)",
      "File \u001b[0;32m<timed eval>:1\u001b[0m\n",
      "Cell \u001b[0;32mIn[34], line 2\u001b[0m, in \u001b[0;36mvalue_counts\u001b[0;34m(data_, col_)\u001b[0m\n\u001b[1;32m      1\u001b[0m \u001b[38;5;28;01mdef\u001b[39;00m \u001b[38;5;21mvalue_counts\u001b[39m(data_, col_):\n\u001b[0;32m----> 2\u001b[0m     count \u001b[38;5;241m=\u001b[39m \u001b[43mdata_\u001b[49m\u001b[38;5;241;43m.\u001b[39;49m\u001b[43mgroupBy\u001b[49m\u001b[43m(\u001b[49m\u001b[43mcol_\u001b[49m\u001b[43m)\u001b[49m\u001b[38;5;241;43m.\u001b[39;49m\u001b[43mcount\u001b[49m\u001b[43m(\u001b[49m\u001b[43m)\u001b[49m\u001b[38;5;241m.\u001b[39morderBy(\u001b[38;5;124m'\u001b[39m\u001b[38;5;124mcount\u001b[39m\u001b[38;5;124m'\u001b[39m, ascending\u001b[38;5;241m=\u001b[39m\u001b[38;5;28;01mFalse\u001b[39;00m)\n\u001b[1;32m      3\u001b[0m     \u001b[38;5;28mprint\u001b[39m(count\u001b[38;5;241m.\u001b[39mhead(\u001b[38;5;241m10\u001b[39m))\n\u001b[1;32m      4\u001b[0m     \u001b[38;5;28mprint\u001b[39m(count\u001b[38;5;241m.\u001b[39mtail(\u001b[38;5;241m10\u001b[39m))\n",
      "File \u001b[0;32m/usr/lib/spark/python/pyspark/sql/group.py:33\u001b[0m, in \u001b[0;36mdfapi.<locals>._api\u001b[0;34m(self)\u001b[0m\n\u001b[1;32m     31\u001b[0m \u001b[38;5;28;01mdef\u001b[39;00m \u001b[38;5;21m_api\u001b[39m(\u001b[38;5;28mself\u001b[39m):\n\u001b[1;32m     32\u001b[0m     name \u001b[38;5;241m=\u001b[39m f\u001b[38;5;241m.\u001b[39m\u001b[38;5;18m__name__\u001b[39m\n\u001b[0;32m---> 33\u001b[0m     jdf \u001b[38;5;241m=\u001b[39m \u001b[38;5;28;43mgetattr\u001b[39;49m\u001b[43m(\u001b[49m\u001b[38;5;28;43mself\u001b[39;49m\u001b[38;5;241;43m.\u001b[39;49m\u001b[43m_jgd\u001b[49m\u001b[43m,\u001b[49m\u001b[43m \u001b[49m\u001b[43mname\u001b[49m\u001b[43m)\u001b[49m\u001b[43m(\u001b[49m\u001b[43m)\u001b[49m\n\u001b[1;32m     34\u001b[0m     \u001b[38;5;28;01mreturn\u001b[39;00m DataFrame(jdf, \u001b[38;5;28mself\u001b[39m\u001b[38;5;241m.\u001b[39msql_ctx)\n",
      "File \u001b[0;32m/usr/lib/spark/python/lib/py4j-0.10.9-src.zip/py4j/java_gateway.py:1304\u001b[0m, in \u001b[0;36mJavaMember.__call__\u001b[0;34m(self, *args)\u001b[0m\n\u001b[1;32m   1298\u001b[0m command \u001b[38;5;241m=\u001b[39m proto\u001b[38;5;241m.\u001b[39mCALL_COMMAND_NAME \u001b[38;5;241m+\u001b[39m\\\n\u001b[1;32m   1299\u001b[0m     \u001b[38;5;28mself\u001b[39m\u001b[38;5;241m.\u001b[39mcommand_header \u001b[38;5;241m+\u001b[39m\\\n\u001b[1;32m   1300\u001b[0m     args_command \u001b[38;5;241m+\u001b[39m\\\n\u001b[1;32m   1301\u001b[0m     proto\u001b[38;5;241m.\u001b[39mEND_COMMAND_PART\n\u001b[1;32m   1303\u001b[0m answer \u001b[38;5;241m=\u001b[39m \u001b[38;5;28mself\u001b[39m\u001b[38;5;241m.\u001b[39mgateway_client\u001b[38;5;241m.\u001b[39msend_command(command)\n\u001b[0;32m-> 1304\u001b[0m return_value \u001b[38;5;241m=\u001b[39m \u001b[43mget_return_value\u001b[49m\u001b[43m(\u001b[49m\n\u001b[1;32m   1305\u001b[0m \u001b[43m    \u001b[49m\u001b[43manswer\u001b[49m\u001b[43m,\u001b[49m\u001b[43m \u001b[49m\u001b[38;5;28;43mself\u001b[39;49m\u001b[38;5;241;43m.\u001b[39;49m\u001b[43mgateway_client\u001b[49m\u001b[43m,\u001b[49m\u001b[43m \u001b[49m\u001b[38;5;28;43mself\u001b[39;49m\u001b[38;5;241;43m.\u001b[39;49m\u001b[43mtarget_id\u001b[49m\u001b[43m,\u001b[49m\u001b[43m \u001b[49m\u001b[38;5;28;43mself\u001b[39;49m\u001b[38;5;241;43m.\u001b[39;49m\u001b[43mname\u001b[49m\u001b[43m)\u001b[49m\n\u001b[1;32m   1307\u001b[0m \u001b[38;5;28;01mfor\u001b[39;00m temp_arg \u001b[38;5;129;01min\u001b[39;00m temp_args:\n\u001b[1;32m   1308\u001b[0m     temp_arg\u001b[38;5;241m.\u001b[39m_detach()\n",
      "File \u001b[0;32m/usr/lib/spark/python/pyspark/sql/utils.py:134\u001b[0m, in \u001b[0;36mcapture_sql_exception.<locals>.deco\u001b[0;34m(*a, **kw)\u001b[0m\n\u001b[1;32m    130\u001b[0m converted \u001b[38;5;241m=\u001b[39m convert_exception(e\u001b[38;5;241m.\u001b[39mjava_exception)\n\u001b[1;32m    131\u001b[0m \u001b[38;5;28;01mif\u001b[39;00m \u001b[38;5;129;01mnot\u001b[39;00m \u001b[38;5;28misinstance\u001b[39m(converted, UnknownException):\n\u001b[1;32m    132\u001b[0m     \u001b[38;5;66;03m# Hide where the exception came from that shows a non-Pythonic\u001b[39;00m\n\u001b[1;32m    133\u001b[0m     \u001b[38;5;66;03m# JVM exception message.\u001b[39;00m\n\u001b[0;32m--> 134\u001b[0m     \u001b[43mraise_from\u001b[49m\u001b[43m(\u001b[49m\u001b[43mconverted\u001b[49m\u001b[43m)\u001b[49m\n\u001b[1;32m    135\u001b[0m \u001b[38;5;28;01melse\u001b[39;00m:\n\u001b[1;32m    136\u001b[0m     \u001b[38;5;28;01mraise\u001b[39;00m\n",
      "File \u001b[0;32m<string>:3\u001b[0m, in \u001b[0;36mraise_from\u001b[0;34m(e)\u001b[0m\n",
      "\u001b[0;31mAnalysisException\u001b[0m: cannot resolve '`tx_is_fraud`' given input columns: [count, customer_id, terminal_id, tx_amount, tx_datetime, tx_fraud_scenario, tx_id, tx_time_in_days, tx_time_in_seconds];;\n'Aggregate ['tx_is_fraud], ['tx_is_fraud, count(1) AS count#893L]\n+- Filter (tx_amount#4 > cast(0 as float))\n   +- Filter (customer_id#2 >= 0)\n      +- Filter (count#630L = cast(1 as bigint))\n         +- Aggregate [tx_id#0, tx_datetime#1, customer_id#2, terminal_id#3, tx_amount#4, tx_time_in_seconds#5, tx_time_in_days#6, tx_fraud_scenario#8], [tx_id#0, tx_datetime#1, customer_id#2, terminal_id#3, tx_amount#4, tx_time_in_seconds#5, tx_time_in_days#6, tx_fraud_scenario#8, count(1) AS count#630L]\n            +- Deduplicate [customer_id#2, tx_time_in_seconds#5, tx_amount#4, tx_is_fraud#7, tx_time_in_days#6, terminal_id#3, tx_datetime#1, tx_id#0, tx_fraud_scenario#8]\n               +- Relation[tx_id#0,tx_datetime#1,customer_id#2,terminal_id#3,tx_amount#4,tx_time_in_seconds#5,tx_time_in_days#6,tx_is_fraud#7,tx_fraud_scenario#8] csv\n"
     ]
    }
   ],
   "source": [
    "%%time\n",
    "value_counts(data, 'tx_is_fraud')"
   ]
  },
  {
   "cell_type": "markdown",
   "id": "4cf17b55",
   "metadata": {},
   "source": [
    "Ошибка возникла из-за фильтрации дубликатов по признаковому пространству: выполнялась группировка без столбца `tx_is_fraud`. Не страшно, так как это тестовый скрипт. В итоговом скрипте указанной фильтрации не будет. Тем не менее, проблемых значений столбца `tx_is_fraud` не было, когда эта часть кода отрабатывала – перезапускать не буду."
   ]
  },
  {
   "cell_type": "markdown",
   "id": "f297c650",
   "metadata": {},
   "source": [
    "### tx_fraud_scenario"
   ]
  },
  {
   "cell_type": "code",
   "execution_count": 41,
   "id": "2e904eb1",
   "metadata": {},
   "outputs": [
    {
     "name": "stderr",
     "output_type": "stream",
     "text": [
      "                                                                                \r"
     ]
    },
    {
     "name": "stdout",
     "output_type": "stream",
     "text": [
      "[Row(tx_fraud_scenario=0, count=44460337), Row(tx_fraud_scenario=2, count=2435404), Row(tx_fraud_scenario=3, count=65895), Row(tx_fraud_scenario=1, count=25653)]\n"
     ]
    },
    {
     "name": "stderr",
     "output_type": "stream",
     "text": [
      "                                                                                \r"
     ]
    },
    {
     "name": "stdout",
     "output_type": "stream",
     "text": [
      "[Row(tx_fraud_scenario=0, count=44460337), Row(tx_fraud_scenario=2, count=2435404), Row(tx_fraud_scenario=3, count=65895), Row(tx_fraud_scenario=1, count=25653)]\n",
      "CPU times: user 314 ms, sys: 55.8 ms, total: 370 ms\n",
      "Wall time: 7min 29s\n"
     ]
    }
   ],
   "source": [
    "%%time\n",
    "value_counts(data, 'tx_fraud_scenario')"
   ]
  },
  {
   "cell_type": "markdown",
   "id": "24a2868d",
   "metadata": {},
   "source": [
    "Проблемых значений столбца `tx_fraud_scenario` не видно."
   ]
  },
  {
   "cell_type": "markdown",
   "id": "c7f3cf1f",
   "metadata": {},
   "source": [
    "## Итог "
   ]
  },
  {
   "cell_type": "markdown",
   "id": "77456cd1",
   "metadata": {},
   "source": [
    "Таким образом, чистка данных будет заключаться в следующем:\n",
    "1. Удаление полных дубликатов\n",
    "1. Удаление отрицательных индентификаторов клиентов\n",
    "1. Удаление строк с нулевым объёмом перевода"
   ]
  }
 ],
 "metadata": {
  "kernelspec": {
   "display_name": "venv38",
   "language": "python",
   "name": "venv38"
  },
  "language_info": {
   "codemirror_mode": {
    "name": "ipython",
    "version": 3
   },
   "file_extension": ".py",
   "mimetype": "text/x-python",
   "name": "python",
   "nbconvert_exporter": "python",
   "pygments_lexer": "ipython3",
   "version": "3.8.10"
  }
 },
 "nbformat": 4,
 "nbformat_minor": 5
}
